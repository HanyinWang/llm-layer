{
 "cells": [
  {
   "cell_type": "code",
   "execution_count": 23,
   "id": "00786183-5e2b-4ea5-9e7d-6cccd6790496",
   "metadata": {},
   "outputs": [],
   "source": [
    "import pandas as pd\n",
    "import json\n",
    "from tqdm import trange\n",
    "from sklearn.metrics import classification_report"
   ]
  },
  {
   "cell_type": "markdown",
   "id": "f1191cf3-15c0-45ec-95a0-6992333db2c6",
   "metadata": {},
   "source": [
    "outputs for cancer and diabetes"
   ]
  },
  {
   "cell_type": "code",
   "execution_count": 24,
   "id": "89f046e6-302e-4ad1-95ad-1072f2a807a2",
   "metadata": {},
   "outputs": [],
   "source": [
    "data_labeled_cancer = pd.read_csv('../data/outputs_cancer.csv')\n",
    "data_labeled_diabetes = pd.read_csv('../data/outputs_diabetes.csv')"
   ]
  },
  {
   "cell_type": "code",
   "execution_count": 29,
   "id": "a0697fb4-eae9-4f35-ab3a-b1a0a8f5f12a",
   "metadata": {},
   "outputs": [],
   "source": [
    "def clean_mistral_output(text, condition):\n",
    "    text = text.replace('\\n', '')\n",
    "    text = text.replace('</s>', '')\n",
    "\n",
    "    try:\n",
    "        l = json.loads(text)[condition]\n",
    "    except:\n",
    "        l = ''\n",
    "\n",
    "    if l == 'YES':\n",
    "        label = 1\n",
    "    else: # \"NO\", \"MAYBE\", and invalid output\n",
    "        label = 0\n",
    "    return label\n",
    "\n",
    "diabetes_label = [clean_mistral_output(t, 'diabetes') for t in data_labeled_diabetes['finetuned_mistral_response']]\n",
    "cancer_label = [clean_mistral_output(t, 'cancer') for t in data_labeled_cancer['finetuned_mistral_response']]\n",
    "\n",
    "naive_diabetes_label = [clean_mistral_output(t, 'diabetes') for t in data_labeled_diabetes['mistral_response']]\n",
    "naive_cancer_label = [clean_mistral_output(t, 'cancer') for t in data_labeled_cancer['mistral_response']]\n",
    "\n",
    "data_labeled_cancer['mistral_label'] = cancer_label\n",
    "data_labeled_cancer['naive_mistral_label'] = naive_cancer_label\n",
    "\n",
    "data_labeled_diabetes['mistral_label'] = diabetes_label\n",
    "data_labeled_diabetes['naive_mistral_label'] = naive_diabetes_label"
   ]
  },
  {
   "cell_type": "markdown",
   "id": "d05b4c60-12ad-49ca-aab3-53888ee85c0b",
   "metadata": {},
   "source": [
    "Performance for cancer BEFORE fine-tuning"
   ]
  },
  {
   "cell_type": "code",
   "execution_count": 27,
   "id": "3bad93d8-c669-4c2f-b92c-88b8263c52d9",
   "metadata": {},
   "outputs": [
    {
     "name": "stdout",
     "output_type": "stream",
     "text": [
      "              precision    recall  f1-score   support\n",
      "\n",
      "           0       0.60      1.00      0.75        30\n",
      "           1       0.00      0.00      0.00        20\n",
      "\n",
      "    accuracy                           0.60        50\n",
      "   macro avg       0.30      0.50      0.38        50\n",
      "weighted avg       0.36      0.60      0.45        50\n",
      "\n"
     ]
    },
    {
     "name": "stderr",
     "output_type": "stream",
     "text": [
      "/home/hwi3319/miniconda3/envs/layer-project/lib/python3.10/site-packages/sklearn/metrics/_classification.py:1509: UndefinedMetricWarning: Precision is ill-defined and being set to 0.0 in labels with no predicted samples. Use `zero_division` parameter to control this behavior.\n",
      "  _warn_prf(average, modifier, f\"{metric.capitalize()} is\", len(result))\n",
      "/home/hwi3319/miniconda3/envs/layer-project/lib/python3.10/site-packages/sklearn/metrics/_classification.py:1509: UndefinedMetricWarning: Precision is ill-defined and being set to 0.0 in labels with no predicted samples. Use `zero_division` parameter to control this behavior.\n",
      "  _warn_prf(average, modifier, f\"{metric.capitalize()} is\", len(result))\n",
      "/home/hwi3319/miniconda3/envs/layer-project/lib/python3.10/site-packages/sklearn/metrics/_classification.py:1509: UndefinedMetricWarning: Precision is ill-defined and being set to 0.0 in labels with no predicted samples. Use `zero_division` parameter to control this behavior.\n",
      "  _warn_prf(average, modifier, f\"{metric.capitalize()} is\", len(result))\n"
     ]
    }
   ],
   "source": [
    "print(classification_report(data_labeled_cancer['has_cancer'].astype('int').to_list(), \n",
    "                            data_labeled_cancer['naive_mistral_label'].to_list()))"
   ]
  },
  {
   "cell_type": "markdown",
   "id": "c0d3334f-dde5-40b0-bf8e-5dbc80054554",
   "metadata": {},
   "source": [
    "Performance for cancer AFTER fine-tuning"
   ]
  },
  {
   "cell_type": "code",
   "execution_count": 28,
   "id": "8d102808-e94f-486e-899e-0bef2cd7d0d8",
   "metadata": {},
   "outputs": [
    {
     "name": "stdout",
     "output_type": "stream",
     "text": [
      "              precision    recall  f1-score   support\n",
      "\n",
      "           0       0.72      0.97      0.83        30\n",
      "           1       0.90      0.45      0.60        20\n",
      "\n",
      "    accuracy                           0.76        50\n",
      "   macro avg       0.81      0.71      0.71        50\n",
      "weighted avg       0.80      0.76      0.74        50\n",
      "\n"
     ]
    }
   ],
   "source": [
    "print(classification_report(data_labeled_cancer['has_cancer'].astype('int').to_list(), \n",
    "                            data_labeled_cancer['mistral_label'].to_list()))"
   ]
  },
  {
   "cell_type": "markdown",
   "id": "d86afb00-1217-4e63-b0f3-a3599e52866a",
   "metadata": {},
   "source": [
    "Performance for diabetes BEFORE fine-tuning"
   ]
  },
  {
   "cell_type": "code",
   "execution_count": 33,
   "id": "30746ae6-0f6f-441b-be2c-784f32cc4d31",
   "metadata": {},
   "outputs": [
    {
     "name": "stdout",
     "output_type": "stream",
     "text": [
      "              precision    recall  f1-score   support\n",
      "\n",
      "           0       0.90      1.00      0.95        45\n",
      "           1       0.00      0.00      0.00         5\n",
      "\n",
      "    accuracy                           0.90        50\n",
      "   macro avg       0.45      0.50      0.47        50\n",
      "weighted avg       0.81      0.90      0.85        50\n",
      "\n"
     ]
    },
    {
     "name": "stderr",
     "output_type": "stream",
     "text": [
      "/home/hwi3319/miniconda3/envs/layer-project/lib/python3.10/site-packages/sklearn/metrics/_classification.py:1509: UndefinedMetricWarning: Precision is ill-defined and being set to 0.0 in labels with no predicted samples. Use `zero_division` parameter to control this behavior.\n",
      "  _warn_prf(average, modifier, f\"{metric.capitalize()} is\", len(result))\n",
      "/home/hwi3319/miniconda3/envs/layer-project/lib/python3.10/site-packages/sklearn/metrics/_classification.py:1509: UndefinedMetricWarning: Precision is ill-defined and being set to 0.0 in labels with no predicted samples. Use `zero_division` parameter to control this behavior.\n",
      "  _warn_prf(average, modifier, f\"{metric.capitalize()} is\", len(result))\n",
      "/home/hwi3319/miniconda3/envs/layer-project/lib/python3.10/site-packages/sklearn/metrics/_classification.py:1509: UndefinedMetricWarning: Precision is ill-defined and being set to 0.0 in labels with no predicted samples. Use `zero_division` parameter to control this behavior.\n",
      "  _warn_prf(average, modifier, f\"{metric.capitalize()} is\", len(result))\n"
     ]
    }
   ],
   "source": [
    "print(classification_report(data_labeled_diabetes['has_diabetes'].astype('int').to_list(), \n",
    "                            data_labeled_diabetes['naive_mistral_label'].to_list()))"
   ]
  },
  {
   "cell_type": "markdown",
   "id": "c20e4f02-19e6-4b76-ab02-e17cd1b8be53",
   "metadata": {},
   "source": [
    "Performance for diabetes AFTER fine-tuning"
   ]
  },
  {
   "cell_type": "code",
   "execution_count": 32,
   "id": "bb060596-826b-4a93-865e-1e38e25798e8",
   "metadata": {},
   "outputs": [
    {
     "name": "stdout",
     "output_type": "stream",
     "text": [
      "              precision    recall  f1-score   support\n",
      "\n",
      "           0       1.00      0.96      0.98        45\n",
      "           1       0.71      1.00      0.83         5\n",
      "\n",
      "    accuracy                           0.96        50\n",
      "   macro avg       0.86      0.98      0.91        50\n",
      "weighted avg       0.97      0.96      0.96        50\n",
      "\n"
     ]
    }
   ],
   "source": [
    "print(classification_report(data_labeled_diabetes['has_diabetes'].astype('int').to_list(), \n",
    "                            data_labeled_diabetes['mistral_label'].to_list()))"
   ]
  },
  {
   "cell_type": "code",
   "execution_count": null,
   "id": "ef9ba912-eb44-4d57-82a1-1eb61edc9324",
   "metadata": {},
   "outputs": [],
   "source": []
  }
 ],
 "metadata": {
  "kernelspec": {
   "display_name": "layer-project",
   "language": "python",
   "name": "layer-project"
  },
  "language_info": {
   "codemirror_mode": {
    "name": "ipython",
    "version": 3
   },
   "file_extension": ".py",
   "mimetype": "text/x-python",
   "name": "python",
   "nbconvert_exporter": "python",
   "pygments_lexer": "ipython3",
   "version": "3.10.14"
  }
 },
 "nbformat": 4,
 "nbformat_minor": 5
}
