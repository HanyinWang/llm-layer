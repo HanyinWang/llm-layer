{
 "cells": [
  {
   "cell_type": "code",
   "execution_count": 1,
   "metadata": {
    "id": "-mHHulC5r4VJ"
   },
   "outputs": [],
   "source": [
    "import warnings\n",
    "warnings.filterwarnings('ignore')\n",
    "\n",
    "import pandas as pd\n",
    "import time\n",
    "import requests\n",
    "import os\n",
    "import json\n",
    "from tqdm import tqdm\n",
    "import pickle\n",
    "from sklearn.metrics import classification_report"
   ]
  },
  {
   "cell_type": "markdown",
   "metadata": {},
   "source": [
    "#### Data"
   ]
  },
  {
   "cell_type": "code",
   "execution_count": 2,
   "metadata": {
    "id": "OatcxxCNsH-e"
   },
   "outputs": [],
   "source": [
    "layer_data = pd.read_csv('../data/layer-sample-data.csv')\n",
    "# use only the data with binary labels\n",
    "eval_data = layer_data.iloc[:50,:]"
   ]
  },
  {
   "cell_type": "markdown",
   "metadata": {},
   "source": [
    "count max token"
   ]
  },
  {
   "cell_type": "code",
   "execution_count": 5,
   "metadata": {},
   "outputs": [
    {
     "name": "stderr",
     "output_type": "stream",
     "text": [
      "100%|███████████████████████████████████████████████████████████████████████████████████████████████████████████████████████████████████████████████████████████████████████████████████████| 50/50 [00:00<00:00, 6161.75it/s]"
     ]
    },
    {
     "name": "stdout",
     "output_type": "stream",
     "text": [
      "Longest input 632\n"
     ]
    },
    {
     "name": "stderr",
     "output_type": "stream",
     "text": [
      "\n"
     ]
    }
   ],
   "source": [
    "import tiktoken\n",
    "from tqdm import tqdm\n",
    "encoding = tiktoken.get_encoding(\"cl100k_base\")\n",
    "encoding = tiktoken.encoding_for_model(\"gpt-4-0125-preview\")\n",
    "max_len = 0\n",
    "for text in tqdm(eval_data['text']):\n",
    "    text_len = len(encoding.encode(text))\n",
    "    max_len = max(max_len, text_len)\n",
    "print('Longest input %i'%(max_len))"
   ]
  },
  {
   "cell_type": "markdown",
   "metadata": {},
   "source": [
    "#### OpenAI"
   ]
  },
  {
   "cell_type": "code",
   "execution_count": 3,
   "metadata": {
    "id": "HV1bm6fUtPAn"
   },
   "outputs": [],
   "source": [
    "access_token = OPENAI_API_KEY\n",
    "headers = {\n",
    "    'Content-Type': 'application/json',\n",
    "    'Authorization': f'Bearer {access_token}'\n",
    "}"
   ]
  },
  {
   "cell_type": "markdown",
   "metadata": {},
   "source": [
    "instruction template"
   ]
  },
  {
   "cell_type": "code",
   "execution_count": 3,
   "metadata": {
    "id": "FXMty-5EtPEP"
   },
   "outputs": [],
   "source": [
    "ins = \"\"\"You are a medical doctor specialized in $$$ diagnosis.\n",
    "From the provided document, assert if the patient historically  and currently has $$$.\n",
    "For each condition, only pick from \"YES\", \"NO\", or \"MAYBE\". You must follow format without anything further. The results have to be directly parseable with python json.loads().\n",
    "Sample output: {\"$$$\": \"MAYBE\"}\n",
    "Never output anything beyond the format.\n",
    "Provided document:\"\"\""
   ]
  },
  {
   "cell_type": "markdown",
   "metadata": {},
   "source": [
    "Query API"
   ]
  },
  {
   "cell_type": "code",
   "execution_count": 23,
   "metadata": {
    "colab": {
     "base_uri": "https://localhost:8080/"
    },
    "id": "yH0XCUv_tPKh",
    "outputId": "3a4c087d-b62e-47f5-960d-7a1ee32b1a76"
   },
   "outputs": [
    {
     "name": "stderr",
     "output_type": "stream",
     "text": [
      "100%|█████████████████████████████████████████████████████████████████████████████████████████████████████████████████████████████████████████████████████████████████████████████████████████| 50/50 [05:57<00:00,  7.16s/it]\n",
      "100%|█████████████████████████████████████████████████████████████████████████████████████████████████████████████████████████████████████████████████████████████████████████████████████████| 50/50 [06:09<00:00,  7.39s/it]\n"
     ]
    }
   ],
   "source": [
    "response_lst = {}\n",
    "for condition in ['cancer', 'diabetes']:\n",
    "  response_lst[condition] = []\n",
    "  for msg in tqdm(eval_data['text'].to_list()):\n",
    "        data = {\"model\": \"gpt-4-0125-preview\",\n",
    "                \"temperature\": 0.1,\n",
    "                \"messages\": [\n",
    "                    {\"role\": \"system\", \"content\":ins.replace('$$$', condition)},\n",
    "                    {\"role\": \"user\", \"content\":msg}]}\n",
    "        time.sleep(6)\n",
    "        response = requests.post(\"https://api.openai.com/v1/chat/completions\", headers=headers, json=data)\n",
    "        response_lst[condition].append(response.json())\n"
   ]
  },
  {
   "cell_type": "markdown",
   "metadata": {},
   "source": [
    "Save results"
   ]
  },
  {
   "cell_type": "code",
   "execution_count": 24,
   "metadata": {},
   "outputs": [],
   "source": [
    "with open('../data/gpt4_response_update.pkl', 'wb') as f:\n",
    "  pickle.dump(response_lst, f)"
   ]
  },
  {
   "cell_type": "code",
   "execution_count": 4,
   "metadata": {
    "id": "2hKzR7IJv_qP"
   },
   "outputs": [],
   "source": [
    "with open('../data/gpt4_response_update.pkl', 'rb') as f:\n",
    "  gpt4_response = pickle.load(f)"
   ]
  },
  {
   "cell_type": "markdown",
   "metadata": {},
   "source": [
    "Clean results for cancer"
   ]
  },
  {
   "cell_type": "code",
   "execution_count": 5,
   "metadata": {
    "id": "vNtD15Qy0yto"
   },
   "outputs": [],
   "source": [
    "cancer_lst = []\n",
    "\n",
    "for d in gpt4_response['cancer']:\n",
    "   cancer_lst.append(json.loads(d['choices'][0]['message']['content'])['cancer'])"
   ]
  },
  {
   "cell_type": "markdown",
   "metadata": {},
   "source": [
    "Clean results for diabetes"
   ]
  },
  {
   "cell_type": "code",
   "execution_count": 6,
   "metadata": {
    "id": "FmeRpXQM08aK"
   },
   "outputs": [],
   "source": [
    "diabetes_lst = []\n",
    "\n",
    "for d in gpt4_response['diabetes']:\n",
    "   diabetes_lst.append(json.loads(d['choices'][0]['message']['content'])['diabetes'])"
   ]
  },
  {
   "cell_type": "code",
   "execution_count": 7,
   "metadata": {
    "colab": {
     "base_uri": "https://localhost:8080/",
     "height": 1000
    },
    "id": "zQGor-uH1VDl",
    "outputId": "b7400a9a-fd38-4e6a-8630-20839dc5e774",
    "scrolled": true
   },
   "outputs": [
    {
     "data": {
      "text/html": [
       "<div>\n",
       "<style scoped>\n",
       "    .dataframe tbody tr th:only-of-type {\n",
       "        vertical-align: middle;\n",
       "    }\n",
       "\n",
       "    .dataframe tbody tr th {\n",
       "        vertical-align: top;\n",
       "    }\n",
       "\n",
       "    .dataframe thead th {\n",
       "        text-align: right;\n",
       "    }\n",
       "</style>\n",
       "<table border=\"1\" class=\"dataframe\">\n",
       "  <thead>\n",
       "    <tr style=\"text-align: right;\">\n",
       "      <th></th>\n",
       "      <th>patient_identifier</th>\n",
       "      <th>text</th>\n",
       "      <th>has_cancer</th>\n",
       "      <th>has_diabetes</th>\n",
       "      <th>cancer_response</th>\n",
       "      <th>cancer_label</th>\n",
       "      <th>diabetes_response</th>\n",
       "      <th>diabetes_label</th>\n",
       "    </tr>\n",
       "  </thead>\n",
       "  <tbody>\n",
       "    <tr>\n",
       "      <th>0</th>\n",
       "      <td>2200</td>\n",
       "      <td>DISCHARGE SUMMARY:\\n\\nPatient Name: [Redacted]...</td>\n",
       "      <td>1</td>\n",
       "      <td>0</td>\n",
       "      <td>YES</td>\n",
       "      <td>1</td>\n",
       "      <td>NO</td>\n",
       "      <td>0</td>\n",
       "    </tr>\n",
       "    <tr>\n",
       "      <th>1</th>\n",
       "      <td>645</td>\n",
       "      <td>Discharge Summary:\\n\\nPatient: [Name]\\n\\nMedic...</td>\n",
       "      <td>0</td>\n",
       "      <td>0</td>\n",
       "      <td>NO</td>\n",
       "      <td>0</td>\n",
       "      <td>NO</td>\n",
       "      <td>0</td>\n",
       "    </tr>\n",
       "    <tr>\n",
       "      <th>2</th>\n",
       "      <td>2563</td>\n",
       "      <td>Discharge Summary:\\nPatient name: [REDACTED]\\n...</td>\n",
       "      <td>0</td>\n",
       "      <td>0</td>\n",
       "      <td>NO</td>\n",
       "      <td>0</td>\n",
       "      <td>NO</td>\n",
       "      <td>0</td>\n",
       "    </tr>\n",
       "    <tr>\n",
       "      <th>3</th>\n",
       "      <td>2275</td>\n",
       "      <td>Discharge Summary:\\n\\nPatient: 59-year-old Ita...</td>\n",
       "      <td>1</td>\n",
       "      <td>0</td>\n",
       "      <td>YES</td>\n",
       "      <td>1</td>\n",
       "      <td>NO</td>\n",
       "      <td>0</td>\n",
       "    </tr>\n",
       "    <tr>\n",
       "      <th>4</th>\n",
       "      <td>1828</td>\n",
       "      <td>Hospital Course:\\n\\nThe 80-year-old male prese...</td>\n",
       "      <td>0</td>\n",
       "      <td>1</td>\n",
       "      <td>NO</td>\n",
       "      <td>0</td>\n",
       "      <td>YES</td>\n",
       "      <td>1</td>\n",
       "    </tr>\n",
       "  </tbody>\n",
       "</table>\n",
       "</div>"
      ],
      "text/plain": [
       "   patient_identifier                                               text  \\\n",
       "0                2200  DISCHARGE SUMMARY:\\n\\nPatient Name: [Redacted]...   \n",
       "1                 645  Discharge Summary:\\n\\nPatient: [Name]\\n\\nMedic...   \n",
       "2                2563  Discharge Summary:\\nPatient name: [REDACTED]\\n...   \n",
       "3                2275  Discharge Summary:\\n\\nPatient: 59-year-old Ita...   \n",
       "4                1828  Hospital Course:\\n\\nThe 80-year-old male prese...   \n",
       "\n",
       "  has_cancer has_diabetes cancer_response  cancer_label diabetes_response  \\\n",
       "0          1            0             YES             1                NO   \n",
       "1          0            0              NO             0                NO   \n",
       "2          0            0              NO             0                NO   \n",
       "3          1            0             YES             1                NO   \n",
       "4          0            1              NO             0               YES   \n",
       "\n",
       "   diabetes_label  \n",
       "0               0  \n",
       "1               0  \n",
       "2               0  \n",
       "3               0  \n",
       "4               1  "
      ]
     },
     "execution_count": 7,
     "metadata": {},
     "output_type": "execute_result"
    }
   ],
   "source": [
    "eval_data['cancer_response'] = cancer_lst\n",
    "eval_data['cancer_label'] = [1 if r=='YES' else 0 for r in cancer_lst]\n",
    "eval_data['diabetes_response'] = diabetes_lst\n",
    "eval_data['diabetes_label'] = [1 if r=='YES' else 0 for r in diabetes_lst]\n",
    "eval_data.head()"
   ]
  },
  {
   "cell_type": "markdown",
   "metadata": {},
   "source": [
    "#### Evaluation"
   ]
  },
  {
   "cell_type": "markdown",
   "metadata": {},
   "source": [
    "Performance for cancer"
   ]
  },
  {
   "cell_type": "code",
   "execution_count": 8,
   "metadata": {
    "colab": {
     "base_uri": "https://localhost:8080/"
    },
    "id": "gyaavbSY17Iv",
    "outputId": "d679fd61-934d-425b-f5ab-e26201623696",
    "scrolled": true
   },
   "outputs": [
    {
     "name": "stdout",
     "output_type": "stream",
     "text": [
      "              precision    recall  f1-score   support\n",
      "\n",
      "           0       0.88      1.00      0.94        30\n",
      "           1       1.00      0.80      0.89        20\n",
      "\n",
      "    accuracy                           0.92        50\n",
      "   macro avg       0.94      0.90      0.91        50\n",
      "weighted avg       0.93      0.92      0.92        50\n",
      "\n"
     ]
    }
   ],
   "source": [
    "print(classification_report(eval_data['has_cancer'].astype('int').to_list(), eval_data['cancer_label'].astype('int').to_list()))"
   ]
  },
  {
   "cell_type": "markdown",
   "metadata": {},
   "source": [
    "Performance for diabetes"
   ]
  },
  {
   "cell_type": "code",
   "execution_count": 9,
   "metadata": {
    "colab": {
     "base_uri": "https://localhost:8080/"
    },
    "id": "FjnK0YgS2Jnx",
    "outputId": "d31e0a82-2385-4184-9471-6796cd8c199a"
   },
   "outputs": [
    {
     "name": "stdout",
     "output_type": "stream",
     "text": [
      "              precision    recall  f1-score   support\n",
      "\n",
      "           0       1.00      1.00      1.00        45\n",
      "           1       1.00      1.00      1.00         5\n",
      "\n",
      "    accuracy                           1.00        50\n",
      "   macro avg       1.00      1.00      1.00        50\n",
      "weighted avg       1.00      1.00      1.00        50\n",
      "\n"
     ]
    }
   ],
   "source": [
    "print(classification_report(eval_data['has_diabetes'].astype('int').to_list(), eval_data['diabetes_label'].to_list()))"
   ]
  },
  {
   "cell_type": "code",
   "execution_count": 10,
   "metadata": {
    "id": "58bPn045264A"
   },
   "outputs": [
    {
     "data": {
      "text/html": [
       "<div>\n",
       "<style scoped>\n",
       "    .dataframe tbody tr th:only-of-type {\n",
       "        vertical-align: middle;\n",
       "    }\n",
       "\n",
       "    .dataframe tbody tr th {\n",
       "        vertical-align: top;\n",
       "    }\n",
       "\n",
       "    .dataframe thead th {\n",
       "        text-align: right;\n",
       "    }\n",
       "</style>\n",
       "<table border=\"1\" class=\"dataframe\">\n",
       "  <thead>\n",
       "    <tr style=\"text-align: right;\">\n",
       "      <th></th>\n",
       "      <th>patient_identifier</th>\n",
       "      <th>text</th>\n",
       "      <th>has_cancer</th>\n",
       "      <th>has_diabetes</th>\n",
       "      <th>cancer_response</th>\n",
       "      <th>cancer_label</th>\n",
       "      <th>diabetes_response</th>\n",
       "      <th>diabetes_label</th>\n",
       "    </tr>\n",
       "  </thead>\n",
       "  <tbody>\n",
       "    <tr>\n",
       "      <th>26</th>\n",
       "      <td>1814</td>\n",
       "      <td>Discharge Summary:\\n\\nPatient Name: [REDACTED]...</td>\n",
       "      <td>1</td>\n",
       "      <td>0</td>\n",
       "      <td>MAYBE</td>\n",
       "      <td>0</td>\n",
       "      <td>NO</td>\n",
       "      <td>0</td>\n",
       "    </tr>\n",
       "    <tr>\n",
       "      <th>27</th>\n",
       "      <td>3146</td>\n",
       "      <td>Hospital Course Summary:\\n\\nAdmission Date: [D...</td>\n",
       "      <td>1</td>\n",
       "      <td>0</td>\n",
       "      <td>MAYBE</td>\n",
       "      <td>0</td>\n",
       "      <td>NO</td>\n",
       "      <td>0</td>\n",
       "    </tr>\n",
       "    <tr>\n",
       "      <th>41</th>\n",
       "      <td>2117</td>\n",
       "      <td>Hospital Course:\\n\\nThe patient is a 10-year-o...</td>\n",
       "      <td>1</td>\n",
       "      <td>0</td>\n",
       "      <td>NO</td>\n",
       "      <td>0</td>\n",
       "      <td>NO</td>\n",
       "      <td>0</td>\n",
       "    </tr>\n",
       "    <tr>\n",
       "      <th>46</th>\n",
       "      <td>2840</td>\n",
       "      <td>Patient Information:\\n\\nName: [Redacted]\\nGend...</td>\n",
       "      <td>1</td>\n",
       "      <td>0</td>\n",
       "      <td>NO</td>\n",
       "      <td>0</td>\n",
       "      <td>NO</td>\n",
       "      <td>0</td>\n",
       "    </tr>\n",
       "  </tbody>\n",
       "</table>\n",
       "</div>"
      ],
      "text/plain": [
       "    patient_identifier                                               text  \\\n",
       "26                1814  Discharge Summary:\\n\\nPatient Name: [REDACTED]...   \n",
       "27                3146  Hospital Course Summary:\\n\\nAdmission Date: [D...   \n",
       "41                2117  Hospital Course:\\n\\nThe patient is a 10-year-o...   \n",
       "46                2840  Patient Information:\\n\\nName: [Redacted]\\nGend...   \n",
       "\n",
       "   has_cancer has_diabetes cancer_response  cancer_label diabetes_response  \\\n",
       "26          1            0           MAYBE             0                NO   \n",
       "27          1            0           MAYBE             0                NO   \n",
       "41          1            0              NO             0                NO   \n",
       "46          1            0              NO             0                NO   \n",
       "\n",
       "    diabetes_label  \n",
       "26               0  \n",
       "27               0  \n",
       "41               0  \n",
       "46               0  "
      ]
     },
     "execution_count": 10,
     "metadata": {},
     "output_type": "execute_result"
    }
   ],
   "source": [
    "# all false negative cases for cancer diagnosis\n",
    "fn_cancer = eval_data[eval_data['has_cancer'].astype('int') != eval_data['cancer_label']]\n",
    "fn_cancer"
   ]
  },
  {
   "cell_type": "code",
   "execution_count": null,
   "metadata": {},
   "outputs": [],
   "source": []
  }
 ],
 "metadata": {
  "colab": {
   "provenance": []
  },
  "kernelspec": {
   "display_name": "layer-project",
   "language": "python",
   "name": "layer-project"
  },
  "language_info": {
   "codemirror_mode": {
    "name": "ipython",
    "version": 3
   },
   "file_extension": ".py",
   "mimetype": "text/x-python",
   "name": "python",
   "nbconvert_exporter": "python",
   "pygments_lexer": "ipython3",
   "version": "3.10.14"
  }
 },
 "nbformat": 4,
 "nbformat_minor": 4
}
